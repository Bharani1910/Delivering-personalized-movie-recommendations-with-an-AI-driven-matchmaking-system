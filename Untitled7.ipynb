{
  "nbformat": 4,
  "nbformat_minor": 0,
  "metadata": {
    "colab": {
      "provenance": [],
      "include_colab_link": true
    },
    "kernelspec": {
      "name": "python3",
      "display_name": "Python 3"
    },
    "language_info": {
      "name": "python"
    }
  },
  "cells": [
    {
      "cell_type": "markdown",
      "metadata": {
        "id": "view-in-github",
        "colab_type": "text"
      },
      "source": [
        "<a href=\"https://colab.research.google.com/github/Bharani1910/Delivering-personalized-movie-recommendations-with-an-AI-driven-matchmaking-system/blob/main/Untitled7.ipynb\" target=\"_parent\"><img src=\"https://colab.research.google.com/assets/colab-badge.svg\" alt=\"Open In Colab\"/></a>"
      ]
    },
    {
      "cell_type": "code",
      "execution_count": null,
      "metadata": {
        "colab": {
          "base_uri": "https://localhost:8080/"
        },
        "id": "MVtzFVilmJIx",
        "outputId": "b77d0782-2bd7-42e5-e421-5d9fb210022f"
      },
      "outputs": [
        {
          "output_type": "stream",
          "name": "stdout",
          "text": [
            "   user_id  movie_id     movie_name  rating\n",
            "0        1     10001          Retro     8.0\n",
            "1        2     10002  TouristFamily     9.0\n",
            "2        3     10003       Identity     9.5\n",
            "3        4     10004         Bombay     8.0\n",
            "4        5     10005         Master     8.5\n"
          ]
        }
      ],
      "source": [
        " sklearn.feature_extraction.text\n",
        "இலிருந்து  pd ஆக  பாண்டாக்களை  இறக்குமதி செய்யவும்  sklearn.metrics.pairwise  இலிருந்து  TfidfVectorizer ஐ இறக்குமதி செய்யவும்  cosine_similarity ஐ இறக்குமதி செய்யவும்\n",
        "\n",
        "\n",
        "# எக்செல் கோப்பை ஏற்றவும்\n",
        "file_path =  'movie.csv'\n",
        "df = pd.read_csv ( file_path )\n",
        "\n",
        "# தரவு அச்சிடலை முன்னோட்டமிடுங்கள் ( df.head ())\n",
        "\n",
        "\n",
        "# படி 1: TF-IDF vectorizer = TfidfVectorizer ( stop_words= 'english' ) ஐப் பயன்படுத்தி வகைகளைத் திசையமைக்கவும் ."
      ]
    }
  ]
}